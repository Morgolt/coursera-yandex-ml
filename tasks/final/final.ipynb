{
 "cells": [
  {
   "cell_type": "markdown",
   "metadata": {},
   "source": [
    "# Финальное задание\n",
    "\n",
    "1) Считываем данные из файла features.csv."
   ]
  },
  {
   "cell_type": "code",
   "execution_count": 1,
   "metadata": {
    "collapsed": true
   },
   "outputs": [],
   "source": [
    "import pandas as pd\n",
    "import numpy as np\n",
    "from sklearn.ensemble import GradientBoostingClassifier\n",
    "from sklearn.metrics import roc_auc_score\n",
    "from sklearn.model_selection import KFold, cross_val_score\n",
    "from sklearn.linear_model import LogisticRegression\n",
    "import time\n",
    "\n",
    "features = pd.read_csv('../../data/final/features.csv', index_col='match_id')"
   ]
  },
  {
   "cell_type": "markdown",
   "metadata": {},
   "source": [
    "2) Удаляем признаки, связанные с итогом матча."
   ]
  },
  {
   "cell_type": "code",
   "execution_count": 2,
   "metadata": {
    "collapsed": true
   },
   "outputs": [],
   "source": [
    "features_from_future = [\"duration\", \"radiant_win\", \"tower_status_radiant\",\n",
    "                        \"tower_status_dire\", \"barracks_status_dire\", \n",
    "                        \"barracks_status_radiant\"]\n",
    "X = features.drop(features_from_future, axis=1)"
   ]
  },
  {
   "cell_type": "markdown",
   "metadata": {},
   "source": [
    "3) Вывод признаков, в которых отсутствуют значения. Часть из них могла быть пропущена из-за того, что эти действия редко отслеживаются тщательно (dire_first_ward_time и radiant_first_ward_time), либо в это же время в матче происходили куда более влияющие на исход игры события - сражения между игроками и т.д."
   ]
  },
  {
   "cell_type": "code",
   "execution_count": 3,
   "metadata": {},
   "outputs": [
    {
     "name": "stdout",
     "output_type": "stream",
     "text": [
      "['first_blood_time' 'first_blood_team' 'first_blood_player1'\n",
      " 'first_blood_player2' 'radiant_bottle_time' 'radiant_courier_time'\n",
      " 'radiant_flying_courier_time' 'radiant_first_ward_time' 'dire_bottle_time'\n",
      " 'dire_courier_time' 'dire_flying_courier_time' 'dire_first_ward_time']\n"
     ]
    }
   ],
   "source": [
    "count = X.count()\n",
    "print(count[count < len(X)].index.values)"
   ]
  },
  {
   "cell_type": "markdown",
   "metadata": {},
   "source": [
    "4) Заполняем пропуски нулями."
   ]
  },
  {
   "cell_type": "code",
   "execution_count": 4,
   "metadata": {
    "collapsed": true
   },
   "outputs": [],
   "source": [
    "X = X.fillna(0)"
   ]
  },
  {
   "cell_type": "markdown",
   "metadata": {},
   "source": [
    "5) Столбец, содержащий значение целевой переменной:"
   ]
  },
  {
   "cell_type": "code",
   "execution_count": 5,
   "metadata": {},
   "outputs": [
    {
     "name": "stdout",
     "output_type": "stream",
     "text": [
      "radiant_win\n"
     ]
    }
   ],
   "source": [
    "Y = features['radiant_win']\n",
    "print('radiant_win')"
   ]
  },
  {
   "cell_type": "markdown",
   "metadata": {},
   "source": [
    "## Градентный бустинг. "
   ]
  },
  {
   "cell_type": "markdown",
   "metadata": {},
   "source": [
    "Для замера времени используется magic-функция IPython - %%time. "
   ]
  },
  {
   "cell_type": "code",
   "execution_count": 6,
   "metadata": {
    "collapsed": true
   },
   "outputs": [],
   "source": [
    "kfold = KFold(shuffle=True, n_splits=5, random_state=241)\n",
    "gb10 = GradientBoostingClassifier(n_estimators=10)\n",
    "gb20 = GradientBoostingClassifier(n_estimators=20)\n",
    "gb30 = GradientBoostingClassifier(n_estimators=30)\n",
    "gb40 = GradientBoostingClassifier(n_estimators=40)"
   ]
  },
  {
   "cell_type": "code",
   "execution_count": 7,
   "metadata": {},
   "outputs": [
    {
     "name": "stdout",
     "output_type": "stream",
     "text": [
      "0.664387720635\n"
     ]
    }
   ],
   "source": [
    "gb10score = cross_val_score(gb10, X, y=Y, scoring='roc_auc', cv=kfold)\n",
    "print(np.mean(gb10score))"
   ]
  },
  {
   "cell_type": "code",
   "execution_count": 8,
   "metadata": {},
   "outputs": [
    {
     "name": "stdout",
     "output_type": "stream",
     "text": [
      "0.682853573534\n"
     ]
    }
   ],
   "source": [
    "gb20score = cross_val_score(gb20, X, y=Y, scoring='roc_auc', cv=kfold)\n",
    "print(np.mean(gb20score))"
   ]
  },
  {
   "cell_type": "code",
   "execution_count": 9,
   "metadata": {},
   "outputs": [
    {
     "name": "stdout",
     "output_type": "stream",
     "text": [
      "0.689496206059\n",
      "CPU times: user 1min 2s, sys: 144 ms, total: 1min 2s\n",
      "Wall time: 1min 2s\n"
     ]
    }
   ],
   "source": [
    "%%time\n",
    "gb30score = cross_val_score(gb30, X, y=Y, scoring='roc_auc', cv=kfold)\n",
    "print(np.mean(gb30score))"
   ]
  },
  {
   "cell_type": "code",
   "execution_count": 10,
   "metadata": {},
   "outputs": [
    {
     "name": "stdout",
     "output_type": "stream",
     "text": [
      "0.694131121473\n"
     ]
    }
   ],
   "source": [
    "gb40score = cross_val_score(gb40, X, y=Y, scoring='roc_auc', cv=kfold)\n",
    "print(np.mean(gb40score))"
   ]
  },
  {
   "cell_type": "markdown",
   "metadata": {
    "collapsed": true
   },
   "source": [
    "Кроссвалидация градиентного бустинга с 30 деревьями заняла 1 минуту 2 секунды. Полученное качество - 0.689 - достаточно средний показатель. Увеличение числа деревьев может улучшить качество (например, на 40 деревьях качество уже 0.694), однако рост качества будет замедляться и, кроме того, возможно возникновение переобучения. Чтобы ускорить обучение, можно распараллелить кроссвалидацию (самый очевидный путь, однако прирост будет не очень большим), либо уменьшить глубину деревьев, но тогда возможно падение качества."
   ]
  },
  {
   "cell_type": "markdown",
   "metadata": {},
   "source": [
    "## Логистическая регрессия.\n",
    "\n",
    "Подбор параметра регуляризации C в пределах от 0.0001 до 10."
   ]
  },
  {
   "cell_type": "code",
   "execution_count": 44,
   "metadata": {
    "collapsed": true
   },
   "outputs": [],
   "source": [
    "from sklearn.preprocessing import StandardScaler\n",
    "from sklearn.model_selection import GridSearchCV\n",
    "from sklearn.metrics import make_scorer\n",
    "\n",
    "scaler = StandardScaler()\n",
    "X_scaled = scaler.fit_transform(X)"
   ]
  },
  {
   "cell_type": "code",
   "execution_count": 47,
   "metadata": {},
   "outputs": [
    {
     "name": "stdout",
     "output_type": "stream",
     "text": [
      "0.716309687427\n",
      "0.11112\n"
     ]
    }
   ],
   "source": [
    "grid1 = GridSearchCV(LogisticRegression(C=1.0),\n",
    "                   {'C': np.linspace(0.00001, 1, num=10)}, \n",
    "                    cv=kfold, scoring='roc_auc')\n",
    "grid1.fit(X_scaled, Y);\n",
    "best_c = grid1.best_params_['C']\n",
    "print(grid1.best_score_)\n",
    "print(best_c)"
   ]
  },
  {
   "cell_type": "markdown",
   "metadata": {},
   "source": [
    "Значение ROC-AUC метрики получилось равным 0.653 при коэффициенте регуляризации C = 0.11."
   ]
  },
  {
   "cell_type": "code",
   "execution_count": 46,
   "metadata": {},
   "outputs": [
    {
     "name": "stdout",
     "output_type": "stream",
     "text": [
      "0.7163069205\n",
      "CPU times: user 13.7 s, sys: 1.2 s, total: 14.9 s\n",
      "Wall time: 13.7 s\n"
     ]
    }
   ],
   "source": [
    "%%time \n",
    "cls = LogisticRegression(C=best_c)\n",
    "print(np.mean(cross_val_score(cls, X_scaled, y=Y, scoring='roc_auc', cv=kfold)))"
   ]
  },
  {
   "cell_type": "markdown",
   "metadata": {},
   "source": [
    "Уберем из выборки категориальные признаки."
   ]
  },
  {
   "cell_type": "code",
   "execution_count": 14,
   "metadata": {
    "collapsed": true
   },
   "outputs": [],
   "source": [
    "cat_features = ['lobby_type', 'r1_hero', 'r2_hero', 'r3_hero', 'r4_hero', 'r5_hero',\n",
    "                'd1_hero', 'd2_hero', 'd3_hero', 'd4_hero', 'd5_hero']\n",
    "X_wc = scaler.fit_transform(X.drop(cat_features, axis=1))"
   ]
  },
  {
   "cell_type": "code",
   "execution_count": 15,
   "metadata": {},
   "outputs": [
    {
     "name": "stdout",
     "output_type": "stream",
     "text": [
      "0.716373371391\n",
      "0.11112\n"
     ]
    }
   ],
   "source": [
    "grid2 = GridSearchCV(LogisticRegression(C=1.0),\n",
    "                   {'C': np.linspace(0.00001, 1, num=10)}, \n",
    "                    cv=kfold, scoring='roc_auc')\n",
    "grid2.fit(X_wc, Y);\n",
    "best_c = grid2.best_params_['C']\n",
    "print(grid2.best_score_)\n",
    "print(best_c)"
   ]
  },
  {
   "cell_type": "code",
   "execution_count": 34,
   "metadata": {
    "collapsed": true
   },
   "outputs": [],
   "source": [
    "def bow_heroes(X, hero_cols):\n",
    "    N = len(X[cat_features[1:]].stack().unique())\n",
    "    max_hero_id = max(X[cat_features[1:]].max(axis=0))\n",
    "    diff = max_hero_id - N\n",
    "    X_pick = np.zeros((X.shape[0], N))\n",
    "\n",
    "    for i, match_id in enumerate(X.index):\n",
    "        for p in range(5):\n",
    "            X_pick[i, X.ix[match_id, 'r%d_hero' % (p+1)]-1-diff] = 1\n",
    "            X_pick[i, X.ix[match_id, 'd%d_hero' % (p+1)]-1-diff] = -1\n",
    "    return X_pick"
   ]
  },
  {
   "cell_type": "code",
   "execution_count": 35,
   "metadata": {},
   "outputs": [],
   "source": [
    "X_pick = bow_heroes(X, cat_features)\n",
    "X_final = np.hstack((X_wc, X_pick))"
   ]
  },
  {
   "cell_type": "code",
   "execution_count": null,
   "metadata": {},
   "outputs": [],
   "source": [
    "grid3 = GridSearchCV(LogisticRegression(C=1.0),\n",
    "                   {'C': np.linspace(0.00001, 1, num=10)}, \n",
    "                    cv=kfold, scoring='roc_auc')\n",
    "grid3.fit(X_final, Y);"
   ]
  },
  {
   "cell_type": "code",
   "execution_count": 19,
   "metadata": {},
   "outputs": [
    {
     "name": "stdout",
     "output_type": "stream",
     "text": [
      "0.749907823455\n",
      "0.11112\n"
     ]
    }
   ],
   "source": [
    "best_c = grid3.best_params_['C']\n",
    "print(grid3.best_score_)\n",
    "print(best_c)"
   ]
  },
  {
   "cell_type": "code",
   "execution_count": 43,
   "metadata": {},
   "outputs": [
    {
     "name": "stdout",
     "output_type": "stream",
     "text": [
      "0.997536638423\n",
      "0.00246336157663\n"
     ]
    }
   ],
   "source": [
    "test = pd.read_csv('../../data/final/features_test.csv', index_col='match_id')\n",
    "test = test.fillna(0)\n",
    "best_model = grid3.best_estimator_\n",
    "test_wc = scaler.fit_transform(test.drop(cat_features, axis=1))\n",
    "test_cat = bow_heroes(test, cat_features)\n",
    "test = np.hstack((test_wc, test_cat))\n",
    "predict = best_model.predict_proba(test)\n",
    "print(np.max(predict))\n",
    "print(np.min(predict))"
   ]
  }
 ],
 "metadata": {
  "kernelspec": {
   "display_name": "Python 3",
   "language": "python",
   "name": "python3"
  },
  "language_info": {
   "codemirror_mode": {
    "name": "ipython",
    "version": 3
   },
   "file_extension": ".py",
   "mimetype": "text/x-python",
   "name": "python",
   "nbconvert_exporter": "python",
   "pygments_lexer": "ipython3",
   "version": "3.5.2"
  }
 },
 "nbformat": 4,
 "nbformat_minor": 1
}
