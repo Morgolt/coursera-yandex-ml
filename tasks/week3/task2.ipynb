{
 "cells": [
  {
   "cell_type": "code",
   "execution_count": 1,
   "metadata": {
    "collapsed": true
   },
   "outputs": [],
   "source": [
    "import numpy as np\n",
    "from sklearn import datasets\n",
    "from sklearn.feature_extraction.text import TfidfVectorizer\n",
    "from sklearn.model_selection import GridSearchCV, KFold\n",
    "from sklearn.svm import SVC\n",
    "\n",
    "newsgroups = datasets.fetch_20newsgroups(\n",
    "                    subset='all',\n",
    "                    categories=['alt.atheism', 'sci.space']\n",
    "             )"
   ]
  },
  {
   "cell_type": "code",
   "execution_count": 3,
   "metadata": {
    "collapsed": true
   },
   "outputs": [],
   "source": [
    "tfidf = TfidfVectorizer()\n",
    "X = tfidf.fit_transform(newsgroups.data)\n",
    "y = newsgroups.target"
   ]
  },
  {
   "cell_type": "code",
   "execution_count": 5,
   "metadata": {
    "collapsed": true
   },
   "outputs": [],
   "source": [
    "cls = SVC(kernel='linear', random_state=241)\n",
    "grid = {'C': np.power(10.0, range(-5, 6))}\n",
    "kfold = KFold(n_splits=5, shuffle=True, random_state=241)\n",
    "gridCV = GridSearchCV(cls, grid, scoring='accuracy', cv=kfold, n_jobs=-1)"
   ]
  },
  {
   "cell_type": "code",
   "execution_count": 6,
   "metadata": {
    "collapsed": true
   },
   "outputs": [
    {
     "data": {
      "text/plain": [
       "GridSearchCV(cv=KFold(n_splits=5, random_state=241, shuffle=True),\n       error_score='raise',\n       estimator=SVC(C=1.0, cache_size=200, class_weight=None, coef0=0.0,\n  decision_function_shape=None, degree=3, gamma='auto', kernel='linear',\n  max_iter=-1, probability=False, random_state=241, shrinking=True,\n  tol=0.001, verbose=False),\n       fit_params={}, iid=True, n_jobs=-1,\n       param_grid={'C': array([  1.00000e-05,   1.00000e-04,   1.00000e-03,   1.00000e-02,\n         1.00000e-01,   1.00000e+00,   1.00000e+01,   1.00000e+02,\n         1.00000e+03,   1.00000e+04,   1.00000e+05])},\n       pre_dispatch='2*n_jobs', refit=True, return_train_score=True,\n       scoring='accuracy', verbose=0)"
      ]
     },
     "execution_count": 6,
     "metadata": {},
     "output_type": "execute_result"
    }
   ],
   "source": [
    "gridCV.fit(X, y)"
   ]
  },
  {
   "cell_type": "code",
   "execution_count": 8,
   "metadata": {},
   "outputs": [
    {
     "name": "stdout",
     "output_type": "stream",
     "text": [
      "C = 1e-05, score = 0.5526315789473685\nC = 0.0001, score = 0.5526315789473685\nC = 0.001, score = 0.5526315789473685\nC = 0.01, score = 0.5526315789473685\nC = 0.1, score = 0.9501679731243001\nC = 1.0, score = 0.9932810750279956\nC = 10.0, score = 0.9932810750279956\nC = 100.0, score = 0.9932810750279956\nC = 1000.0, score = 0.9932810750279956\nC = 10000.0, score = 0.9932810750279956\nC = 100000.0, score = 0.9932810750279956\n"
     ]
    },
    {
     "name": "stderr",
     "output_type": "stream",
     "text": [
      "/home/morgolt/Projects/Coursera/iml/mlvenv/lib/python3.5/site-packages/sklearn/model_selection/_search.py:667: DeprecationWarning: The grid_scores_ attribute was deprecated in version 0.18 in favor of the more elaborate cv_results_ attribute. The grid_scores_ attribute will not be available from 0.20\n  DeprecationWarning)\n"
     ]
    }
   ],
   "source": [
    "for a in gridCV.grid_scores_:\n",
    "    print('C = {c}, score = {a}'.format(a=a.mean_validation_score, c=a.parameters['C']))"
   ]
  },
  {
   "cell_type": "code",
   "execution_count": 9,
   "metadata": {
    "collapsed": false
   },
   "outputs": [
    {
     "data": {
      "text/plain": [
       "SVC(C=1.0, cache_size=200, class_weight=None, coef0=0.0,\n  decision_function_shape=None, degree=3, gamma='auto', kernel='linear',\n  max_iter=-1, probability=False, random_state=241, shrinking=True,\n  tol=0.001, verbose=False)"
      ]
     },
     "execution_count": 9,
     "metadata": {},
     "output_type": "execute_result"
    }
   ],
   "source": [
    "C = 1.0\n",
    "best_cls = SVC(C=C, random_state=241, kernel='linear')\n",
    "best_cls.fit(X, y)"
   ]
  },
  {
   "cell_type": "code",
   "execution_count": 21,
   "metadata": {},
   "outputs": [
    {
     "name": "stdout",
     "output_type": "stream",
     "text": [
      "[17469 17422 16746 16935 17536  9015 17045 17449 18092 16693]\n"
     ]
    }
   ],
   "source": [
    "feature_names = np.array(tfidf.get_feature_names())\n",
    "best_weights = np.argsort(np.ravel(np.abs(best_cls.coef_.todense())))[-10:]\n",
    "np.savetxt('output/week3/task2.txt', sorted(feature_names[best_weights]), newline=' ', fmt='%s')"
   ]
  },
  {
   "cell_type": "code",
   "execution_count": null,
   "metadata": {},
   "outputs": [],
   "source": [
    ""
   ]
  }
 ],
 "metadata": {
  "kernelspec": {
   "display_name": "Python 2",
   "language": "python",
   "name": "python2"
  },
  "language_info": {
   "codemirror_mode": {
    "name": "ipython",
    "version": 2.0
   },
   "file_extension": ".py",
   "mimetype": "text/x-python",
   "name": "python",
   "nbconvert_exporter": "python",
   "pygments_lexer": "ipython2",
   "version": "2.7.6"
  }
 },
 "nbformat": 4,
 "nbformat_minor": 0
}