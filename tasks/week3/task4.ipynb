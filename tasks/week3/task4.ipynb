{
 "cells": [
  {
   "cell_type": "code",
   "execution_count": 2,
   "metadata": {
    "collapsed": true
   },
   "outputs": [],
   "source": [
    "import pandas as pd\n",
    "import numpy as np\n",
    "\n",
    "data = pd.read_csv('data/classification.csv')\n",
    "true = data['true']\n",
    "predicted = data['pred']"
   ]
  },
  {
   "cell_type": "code",
   "execution_count": 27,
   "metadata": {},
   "outputs": [],
   "source": [
    "tp = data[(data.pred == 1) & (data.true == 1)].shape[0]\n",
    "fp = data[(data.pred == 1) & (data.true == 0)].shape[0]\n",
    "tn = data[(data.pred == 0) & (data.true == 0)].shape[0]\n",
    "fn = data[(data.pred == 0) & (data.true == 1)].shape[0]\n",
    "np.savetxt('output/week3/task4_1.txt', np.array([tp, fp, fn, tn]), newline=' ', fmt='%d')"
   ]
  },
  {
   "cell_type": "code",
   "execution_count": 30,
   "metadata": {},
   "outputs": [],
   "source": [
    "from sklearn.metrics import accuracy_score, precision_score, recall_score, f1_score\n",
    "acc = np.round(accuracy_score(true, predicted), 2)\n",
    "prec = np.round(precision_score(true, predicted), 2)\n",
    "rec = np.round(recall_score(true, predicted), 2)\n",
    "f1 = np.round(f1_score(true, predicted), 2)\n",
    "np.savetxt('output/week3/task4_2.txt', np.array([acc, prec, rec, f1]), newline=' ', fmt='%.02f')"
   ]
  },
  {
   "cell_type": "code",
   "execution_count": 39,
   "metadata": {},
   "outputs": [],
   "source": [
    "from sklearn.metrics import roc_auc_score\n",
    "\n",
    "# true,score_logreg,score_svm,score_knn,score_tree\n",
    "data = pd.read_csv('data/scores.csv')\n",
    "best_cls = data[['score_logreg', 'score_svm', 'score_knn', 'score_tree']]. \\\n",
    "    apply(lambda x: roc_auc_score(data.true, x), axis=0).argmax()\n",
    "np.savetxt('output/week3/task4_3.txt', np.array([best_cls]), fmt='%s', newline='')"
   ]
  },
  {
   "cell_type": "code",
   "execution_count": 88,
   "metadata": {},
   "outputs": [
    {
     "name": "stdout",
     "output_type": "stream",
     "text": [
      "3\n"
     ]
    }
   ],
   "source": [
    "from sklearn.metrics import precision_recall_curve\n",
    "\n",
    "def prec_rec(x):\n",
    "    a = precision_recall_curve(data.true, x)\n",
    "    b = ['precision', 'recall', 'thresholds']\n",
    "    c = dict(zip(b, a))\n",
    "    return c\n",
    "\n",
    "pr = data[['score_logreg', 'score_svm', 'score_knn', 'score_tree']].apply(lambda x: prec_rec(x), axis=0)\n",
    "logreg = pd.DataFrame(dict([(k, pd.Series(v)) for k, v in pr.score_logreg.items()]))\n",
    "svm = pd.DataFrame(dict([(k, pd.Series(v)) for k, v in pr.score_svm.items()]))\n",
    "knn = pd.DataFrame(dict([(k, pd.Series(v)) for k, v in pr.score_knn.items()]))\n",
    "tree = pd.DataFrame(dict([(k, pd.Series(v)) for k, v in pr.score_tree.items()]))\n",
    "ans = np.argmax([np.max(logreg[logreg.recall >= 0.7].precision),\n",
    "                 np.max(svm[svm.recall >= 0.7].precision),\n",
    "                 np.max(knn[knn.recall >= 0.7].precision),\n",
    "                 np.max(tree[tree.recall >= 0.7].precision)])\n",
    "print(ans)\n",
    "np.savetxt('output/week3/task4_4.txt', [list(data)[ans+1]], fmt='%s', newline='')"
   ]
  },
  {
   "cell_type": "code",
   "execution_count": 103,
   "metadata": {},
   "outputs": [
    {
     "name": "stdout",
     "output_type": "stream",
     "text": [
      "[0.63025210084033612, 0.6228070175438597, 0.60655737704918034, 0.6517857142857143]\n"
     ]
    }
   ],
   "source": [
    "print([np.max(logreg[logreg.recall >= 0.7].precision),\n",
    "       np.max(svm[svm.recall >= 0.7].precision),\n",
    "       np.max(knn[knn.recall >= 0.7].precision),\n",
    "       np.max(tree[tree.recall >= 0.7].precision)])"
   ]
  },
  {
   "cell_type": "code",
   "execution_count": null,
   "metadata": {},
   "outputs": [],
   "source": [
    ""
   ]
  }
 ],
 "metadata": {
  "kernelspec": {
   "display_name": "Python 2",
   "language": "python",
   "name": "python2"
  },
  "language_info": {
   "codemirror_mode": {
    "name": "ipython",
    "version": 2.0
   },
   "file_extension": ".py",
   "mimetype": "text/x-python",
   "name": "python",
   "nbconvert_exporter": "python",
   "pygments_lexer": "ipython2",
   "version": "2.7.6"
  }
 },
 "nbformat": 4,
 "nbformat_minor": 0
}