{
 "cells": [
  {
   "cell_type": "code",
   "execution_count": 2,
   "metadata": {
    "collapsed": true
   },
   "outputs": [],
   "source": [
    "import pandas as pd\n",
    "import numpy as np\n",
    "\n",
    "\n",
    "data = pd.read_csv('data/data-logistic.csv', header=None, names=['target', 'f1', 'f2'])\n",
    "X = data[['f1', 'f2']]\n",
    "y = data['target']\n",
    "del data"
   ]
  },
  {
   "cell_type": "code",
   "execution_count": 26,
   "metadata": {},
   "outputs": [
    {
     "name": "stdout",
     "output_type": "stream",
     "text": [
      "0.5\n"
     ]
    }
   ],
   "source": [
    "w01 = 0\n",
    "w02 = 0\n",
    "i = 0\n",
    "print(1 - 1 / (1 + np.exp(-y[i]*(w01*X.iloc[i]['f1'] + w02*X.iloc[i]['f2']))))"
   ]
  },
  {
   "cell_type": "code",
   "execution_count": 30,
   "metadata": {
    "collapsed": false
   },
   "outputs": [
    {
     "name": "stdout",
     "output_type": "stream",
     "text": [
      "good\n0.287804423488\n0.0919899571942\n"
     ]
    }
   ],
   "source": [
    "w01 = 0\n",
    "w02 = 0\n",
    "w11 = 0\n",
    "w12 = 0\n",
    "k = 0.1\n",
    "err = 1e-5\n",
    "l = X.shape[0]\n",
    "i = 1\n",
    "for _ in range(0, 10000):\n",
    "    grad_sum1 = 0\n",
    "    grad_sum2 = 0\n",
    "    for j in range(0, l):\n",
    "        grad_sum1 += y[j] * X.iloc[j][0] * (1 - 1 / (1 + np.exp(-y[j] * (w01 * X.iloc[j][0] + w02 * X.iloc[j][1]))))\n",
    "        grad_sum2 += y[j] * X.iloc[j][1] * (1 - 1 / (1 + np.exp(-y[j] * (w01 * X.iloc[j][0] + w02 * X.iloc[j][1]))))\n",
    "    w11 += (1 / l) * k * grad_sum1\n",
    "    w12 += (1 / l) * k * grad_sum2    \n",
    "    if np.linalg.norm(np.array([w01 - w11, w02 - w12])) <= err:\n",
    "        print('good')\n",
    "        break\n",
    "    w01 = w11\n",
    "    w02 = w12\n",
    "\n",
    "    # w1 = w0 + (1 / l) * k * np.sum(np.outer(y, np.dot(X.transpose(), 1 + (1 / (1 + np.exp(-y * np.dot(X, w0)))))), \n",
    "    #                                axis=0)    \n",
    "    # if np.linalg.norm(w1 - w0) <= err:\n",
    "    #     break\n",
    "    # if i == 10000:\n",
    "    #     print(0)\n",
    "    #     break\n",
    "    # w0 = np.copy(w1)\n",
    "    # i += 1\n",
    "print(w01)\n",
    "print(w02)"
   ]
  },
  {
   "cell_type": "code",
   "execution_count": 31,
   "metadata": {},
   "outputs": [
    {
     "name": "stdout",
     "output_type": "stream",
     "text": [
      "[ 0.7853851   0.76377707]\n[ 0.78538402  0.76377612]\n"
     ]
    }
   ],
   "source": [
    "c = 10\n",
    "rw0 = np.array([0, 0])\n",
    "i = 1\n",
    "while True:\n",
    "    rw1 = rw0 + (1 / l) * k * np.sum(np.outer(y, np.dot(X.transpose(), (1 + (1 / (1 + np.exp(-y * np.dot(X, rw0))))))), \n",
    "                                   axis=0) - k * c * rw0    \n",
    "    if np.linalg.norm(rw1 - rw0) <= err:\n",
    "        break\n",
    "    if i == 10000:\n",
    "        print(1)\n",
    "        break\n",
    "    rw0 = np.copy(rw1)\n",
    "    i += 1\n",
    "print(rw1)\n",
    "print(rw0)"
   ]
  },
  {
   "cell_type": "code",
   "execution_count": 7,
   "metadata": {},
   "outputs": [
    {
     "name": "stdout",
     "output_type": "stream",
     "text": [
      "[ 0.716  0.936]\n"
     ]
    },
    {
     "name": "stderr",
     "output_type": "stream",
     "text": [
      "/home/morgolt/Projects/Coursera/iml/mlvenv/lib/python3.5/site-packages/ipykernel_launcher.py:4: RuntimeWarning: overflow encountered in exp\n  after removing the cwd from sys.path.\n"
     ]
    }
   ],
   "source": [
    "from sklearn.metrics import roc_auc_score\n",
    "\n",
    "def sigmoid(x):\n",
    "    return 1 / (1 + np.exp(-x))\n",
    "\n",
    "ryt = sigmoid(np.dot(X, rw1))\n",
    "yt = sigmoid(np.dot(X, w1))\n",
    "ans = np.array([np.round(roc_auc_score(y, yt), 3), \n",
    "                np.round(roc_auc_score(y, ryt), 3)])\n",
    "print(ans)\n",
    "np.savetxt('output/week3/task3.txt', ans.transpose(), newline=' ', fmt='%-.3f')"
   ]
  },
  {
   "cell_type": "code",
   "execution_count": 1,
   "metadata": {},
   "outputs": [],
   "source": [
    ""
   ]
  },
  {
   "cell_type": "code",
   "execution_count": null,
   "metadata": {},
   "outputs": [],
   "source": [
    ""
   ]
  }
 ],
 "metadata": {
  "kernelspec": {
   "display_name": "Python 2",
   "language": "python",
   "name": "python2"
  },
  "language_info": {
   "codemirror_mode": {
    "name": "ipython",
    "version": 2.0
   },
   "file_extension": ".py",
   "mimetype": "text/x-python",
   "name": "python",
   "nbconvert_exporter": "python",
   "pygments_lexer": "ipython2",
   "version": "2.7.6"
  }
 },
 "nbformat": 4,
 "nbformat_minor": 0
}